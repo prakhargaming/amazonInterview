{
 "cells": [
  {
   "cell_type": "markdown",
   "metadata": {},
   "source": [
    "# Amazon Interview Preperation"
   ]
  },
  {
   "cell_type": "markdown",
   "metadata": {
    "vscode": {
     "languageId": "plaintext"
    }
   },
   "source": [
    "## General Resources\n",
    "- [Britney's Article](https://medium.com/@brii.nguyen/how-i-landed-an-internship-at-amazon-2024-having-only-applied-to-here-e5d601a34b22)\n",
    "- [Leadership Principles](https://www.amazon.jobs/content/en/our-workplace/leadership-principles)\n",
    "\n",
    "## Interview Resources\n",
    "- [Google Warmup](https://grow.google/certificates/interview-warmup/category/); AI powered site for mock interviews.\n",
    "- [Pramp](https://www.pramp.com/#/); \"is a site to conduct mock interviews on and it is really useful for this.\"\n",
    "\n",
    "## Technical Resources\n",
    "- [amazon_1year.csv](https://github.com/krishnadey30/LeetCode-Questions-CompanyWise/blob/master/amazon_1year.csv)\n",
    "- [amazon_2year.csv](https://github.com/krishnadey30/LeetCode-Questions-CompanyWise/blob/master/amazon_2year.csv)\n",
    "- [amazon_alltime.csv](https://github.com/krishnadey30/LeetCode-Questions-CompanyWise/blob/master/amazon_alltime.csv)\n",
    "- [Common Amazon Interview Questions](https://github.com/hxu296/leetcode-company-wise-problems-2022?tab=readme-ov-file#amazon)\n",
    "\n",
    "## Leadership Principals\n",
    "Leadership Principles\n",
    "We use our Leadership Principles every day, whether we’re discussing ideas for new projects or deciding on the best way to solve a problem. It’s just one of the things that makes Amazon peculiar.\n",
    "\n",
    "1. **Customer Obsession** Leaders start with the customer and work backwards. They work vigorously to earn and keep customer trust. Although leaders pay attention to competitors, they obsess over customers.\n",
    "2. **Ownership** Leaders are owners. They think long term and don’t sacrifice long-term value for short-term results. They act on behalf of the entire company, beyond just their own team. They never say “that’s not my job.”\n",
    "3. **Invent and Simplify** Leaders expect and require innovation and invention from their teams and always find ways to simplify. They are externally aware, look for new ideas from everywhere, and are not limited by “not invented here.” As we do new things, we accept that we may be misunderstood for long periods of time.\n",
    "4. **Are Right, A Lot** Leaders are right a lot. They have strong judgment and good instincts. They seek diverse perspectives and work to disconfirm their beliefs.\n",
    "5. **Learn and Be Curious** Leaders are never done learning and always seek to improve themselves. They are curious about new possibilities and act to explore them.\n",
    "6. **Hire and Develop the Best** Leaders raise the performance bar with every hire and promotion. They recognize exceptional talent, and willingly move them throughout the organization. Leaders develop leaders and take seriously their role in coaching others. We work on behalf of our people to invent mechanisms for development like Career Choice.\n",
    "7. **Insist on the Highest Standards** Leaders have relentlessly high standards — many people may think these standards are unreasonably high. Leaders are continually raising the bar and drive their teams to deliver high quality products, services, and processes. Leaders ensure that defects do not get sent down the line and that problems are fixed so they stay fixed.\n",
    "8. **Think Big** Thinking small is a self-fulfilling prophecy. Leaders create and communicate a bold direction that inspires results. They think differently and look around corners for ways to serve customers.\n",
    "9. **Bias for Action** Speed matters in business. Many decisions and actions are reversible and do not need extensive study. We value calculated risk taking.\n",
    "10. **Frugality** Accomplish more with less. Constraints breed resourcefulness, self-sufficiency, and invention. There are no extra points for growing headcount, budget size, or fixed expense.\n",
    "11. **Earn Trust** Leaders listen attentively, speak candidly, and treat others respectfully. They are vocally self-critical, even when doing so is awkward or embarrassing. Leaders do not believe their or their team’s body odor smells of perfume. They benchmark themselves and their teams against the best.\n",
    "12. **Dive Deep** Leaders operate at all levels, stay connected to the details, audit frequently, and are skeptical when metrics and anecdote differ. No task is beneath them.\n",
    "13. **Have Backbone; Disagree and Commit** Leaders are obligated to respectfully challenge decisions when they disagree, even when doing so is uncomfortable or exhausting. Leaders have conviction and are tenacious. They do not compromise for the sake of social cohesion. Once a decision is determined, they commit wholly.\n",
    "14. **Deliver Results** Leaders focus on the key inputs for their business and deliver them with the right quality and in a timely fashion. Despite setbacks, they rise to the occasion and never settle.\n",
    "15. **Strive to be Earth’s Best Employer** Leaders work every day to create a safer, more productive, higher performing, more diverse, and more just work environment. They lead with empathy, have fun at work, and make it easy for others to have fun. Leaders ask themselves: Are my fellow employees growing? Are they empowered? Are they ready for what’s next? Leaders have a vision for and commitment to their employees’ personal success, whether that be at Amazon or elsewhere.\n",
    "16. **Success and Scale Bring Broad Responsibility** We started in a garage, but we’re not there anymore. We are big, we impact the world, and we are far from perfect. We must be humble and thoughtful about even the secondary effects of our actions. Our local communities, planet, and future generations need us to be better every day. We must begin each day with a determination to make better, do better, and be better for our customers, our employees, our partners, and the world at large. And we must end every day knowing we can do even more tomorrow. Leaders create more than they consume and always leave things better than how they found them."
   ]
  },
  {
   "cell_type": "markdown",
   "metadata": {
    "vscode": {
     "languageId": "plaintext"
    }
   },
   "source": [
    "## Behavioral"
   ]
  },
  {
   "cell_type": "markdown",
   "metadata": {
    "vscode": {
     "languageId": "plaintext"
    }
   },
   "source": [
    "### Prepared Responses"
   ]
  },
  {
   "cell_type": "markdown",
   "metadata": {
    "vscode": {
     "languageId": "plaintext"
    }
   },
   "source": [
    "**Tell me about yourself**\n",
    "1. Answer 1\n",
    "2. Answer 2\n",
    "\n",
    "**Tell me about a time when you went above and beyond for a customer or client.**\n",
    "1. One time I went above and beyond for a customer or client was during my time at UC Davis Health. I was working under Doctor Farzad at the time and in the middle of my onboarding process, the lab was set to move from UC Davis to Emory Univeristy in Georgia. This meant that my time at UCDHS would be cut short and I would only be given 2 months to work on my project. As a result, I realized, in order to deliver any sort of product, I'd have to shift into high gear (customer obsession). I worked backwards. I started with what my professor needed from me and then I thought what are the steps I can take to get there? I was the only one assigned to this project so there was no choice other than for me to take ownership of my work (ownership). I started by diving deep into the subject matter, which was a computer vision assignment [go deeper into the thingy].\n",
    "2. Answer 2"
   ]
  },
  {
   "cell_type": "markdown",
   "metadata": {
    "vscode": {
     "languageId": "plaintext"
    }
   },
   "source": [
    "### Notes"
   ]
  },
  {
   "cell_type": "markdown",
   "metadata": {
    "vscode": {
     "languageId": "plaintext"
    }
   },
   "source": [
    "- Amazon’s behavioral interview is deeply tied to their [**Leadership Principles**](https://www.amazon.jobs/content/en/our-workplace/leadership-principles).\n",
    "- \"**Two Answers Strategy**: Prepare two stories for each behavioral question, so you can adjust based on the flow of the interview. For each type of question, I prepared 2–3 responses that I can use. When answering them in the interview, I tried to answer each behavioral question with a different experience.\"\n",
    "- \"When answering the '**Tell me about yourself**' question, instead of just giving basic information, use this opportunity to highlight key accomplishments and experiences that align with the role you’re applying for. For example, I used this opportunity to talk about my accolades and start off strong in the interview.\""
   ]
  },
  {
   "cell_type": "markdown",
   "metadata": {
    "vscode": {
     "languageId": "plaintext"
    }
   },
   "source": [
    "## Technical"
   ]
  },
  {
   "cell_type": "markdown",
   "metadata": {
    "vscode": {
     "languageId": "plaintext"
    }
   },
   "source": [
    "### Two Sum\n",
    "1. First, instatitate a dictionary\n",
    "2. Start iterating through the list, substract the current number from the target\n",
    "3. If the complement is already in the dictionary return the current index and the index of the complement\n",
    "4. Else, store the complment in the dictionary as a `(number, index)` pair"
   ]
  },
  {
   "cell_type": "code",
   "execution_count": null,
   "metadata": {},
   "outputs": [],
   "source": [
    "class Solution:\n",
    "    def twoSum(self, nums: List[int], target: int) -> List[int]:\n",
    "        hash = {}\n",
    "        n = len(nums)\n",
    "        for i in range(n):\n",
    "            complement = target - nums[i]\n",
    "            if complement in hash:\n",
    "                return [hash[complement], i]\n",
    "            hash[nums[i]] = i\n",
    "        return []"
   ]
  },
  {
   "cell_type": "markdown",
   "metadata": {},
   "source": [
    "### LRU Cache\n",
    "- Initialize the cache with the capacity and a `dict` and `list` to represent the cache and the age, respectively. The 0th index is the oldest.\n",
    "- For `get` update the age list whenever an key is accessed. \n",
    "- For `put`\n",
    "  - if the value exists, remove it from the age list\n",
    "  - if the cache has reached full capacity, pop the first element (the oldest) from the age list and delete the key corresponding key from the cache\n",
    "  - finally, update the value and add it back to the age list as the newest element."
   ]
  },
  {
   "cell_type": "code",
   "execution_count": null,
   "metadata": {},
   "outputs": [],
   "source": [
    "class LRUCache:\n",
    "    def __init__(self, capacity: int):\n",
    "        self.capacity = capacity\n",
    "        self.cache = {}   \n",
    "        self.age = []    \n",
    "\n",
    "    def get(self, key: int) -> int:\n",
    "        if key not in self.cache:\n",
    "            return -1\n",
    "        self.age.remove(key)\n",
    "        self.age.append(key)\n",
    "        return self.cache[key]\n",
    "\n",
    "    def put(self, key: int, value: int) -> None:\n",
    "        if key in self.cache:\n",
    "            self.age.remove(key)\n",
    "        elif len(self.cache) >= self.capacity:  \n",
    "            temp = self.age.pop(0)\n",
    "            del self.cache[temp]\n",
    "        self.cache[key] = value\n",
    "        self.age.append(key)\n",
    "        return None"
   ]
  },
  {
   "cell_type": "markdown",
   "metadata": {},
   "source": [
    "### Number of Islands"
   ]
  },
  {
   "cell_type": "code",
   "execution_count": null,
   "metadata": {},
   "outputs": [],
   "source": []
  }
 ],
 "metadata": {
  "kernelspec": {
   "display_name": "Python 3",
   "language": "python",
   "name": "python3"
  },
  "language_info": {
   "name": "python",
   "version": "3.8.10"
  }
 },
 "nbformat": 4,
 "nbformat_minor": 2
}
