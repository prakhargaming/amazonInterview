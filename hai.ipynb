{
 "cells": [
  {
   "cell_type": "markdown",
   "metadata": {},
   "source": [
    "# Amazon Interview Preperation"
   ]
  },
  {
   "cell_type": "markdown",
   "metadata": {
    "vscode": {
     "languageId": "plaintext"
    }
   },
   "source": [
    "## General Resources\n",
    "- [Britney's Article](https://medium.com/@brii.nguyen/how-i-landed-an-internship-at-amazon-2024-having-only-applied-to-here-e5d601a34b22)\n",
    "- [Leadership Principles](https://www.amazon.jobs/content/en/our-workplace/leadership-principles)\n",
    "- [Britney Mock Interview Notes](https://docs.google.com/document/d/1K10A6a3XzRr9PXnlBlxbPvlhWFe7tqQTXuYdU4ggF4M/edit?usp=sharing)\n",
    "- [Interview Resources from InterviewCake](https://www.interviewcake.com/data-structures-reference)\n",
    "\n",
    "## Interview Resources\n",
    "- [Google Warmup](https://grow.google/certificates/interview-warmup/category/); AI powered site for mock interviews.\n",
    "- [Pramp](https://www.pramp.com/#/); \"is a site to conduct mock interviews on and it is really useful for this.\"\n",
    "\n",
    "## Technical Resources\n",
    "- [amazon_1year.csv](https://github.com/krishnadey30/LeetCode-Questions-CompanyWise/blob/master/amazon_1year.csv)\n",
    "- [amazon_2year.csv](https://github.com/krishnadey30/LeetCode-Questions-CompanyWise/blob/master/amazon_2year.csv)\n",
    "- [amazon_alltime.csv](https://github.com/krishnadey30/LeetCode-Questions-CompanyWise/blob/master/amazon_alltime.csv)\n",
    "- [Common Amazon Interview Questions](https://github.com/hxu296/leetcode-company-wise-problems-2022?tab=readme-ov-file#amazon)\n",
    "\n",
    "## Leadership Principals\n",
    "Leadership Principles\n",
    "We use our Leadership Principles every day, whether we’re discussing ideas for new projects or deciding on the best way to solve a problem. It’s just one of the things that makes Amazon peculiar.\n",
    "\n",
    "1. **Customer Obsession** Leaders start with the customer and work backwards. They work vigorously to earn and keep customer trust. Although leaders pay attention to competitors, they obsess over customers.\n",
    "2. **Ownership** Leaders are owners. They think long term and don’t sacrifice long-term value for short-term results. They act on behalf of the entire company, beyond just their own team. They never say “that’s not my job.”\n",
    "3. **Invent and Simplify** Leaders expect and require innovation and invention from their teams and always find ways to simplify. They are externally aware, look for new ideas from everywhere, and are not limited by “not invented here.” As we do new things, we accept that we may be misunderstood for long periods of time.\n",
    "4. **Are Right, A Lot** Leaders are right a lot. They have strong judgment and good instincts. They seek diverse perspectives and work to disconfirm their beliefs.\n",
    "5. **Learn and Be Curious** Leaders are never done learning and always seek to improve themselves. They are curious about new possibilities and act to explore them.\n",
    "6. **Hire and Develop the Best** Leaders raise the performance bar with every hire and promotion. They recognize exceptional talent, and willingly move them throughout the organization. Leaders develop leaders and take seriously their role in coaching others. We work on behalf of our people to invent mechanisms for development like Career Choice.\n",
    "7. **Insist on the Highest Standards** Leaders have relentlessly high standards — many people may think these standards are unreasonably high. Leaders are continually raising the bar and drive their teams to deliver high quality products, services, and processes. Leaders ensure that defects do not get sent down the line and that problems are fixed so they stay fixed.\n",
    "8. **Think Big** Thinking small is a self-fulfilling prophecy. Leaders create and communicate a bold direction that inspires results. They think differently and look around corners for ways to serve customers.\n",
    "9. **Bias for Action** Speed matters in business. Many decisions and actions are reversible and do not need extensive study. We value calculated risk taking.\n",
    "10. **Frugality** Accomplish more with less. Constraints breed resourcefulness, self-sufficiency, and invention. There are no extra points for growing headcount, budget size, or fixed expense.\n",
    "11. **Earn Trust** Leaders listen attentively, speak candidly, and treat others respectfully. They are vocally self-critical, even when doing so is awkward or embarrassing. Leaders do not believe their or their team’s body odor smells of perfume. They benchmark themselves and their teams against the best.\n",
    "12. **Dive Deep** Leaders operate at all levels, stay connected to the details, audit frequently, and are skeptical when metrics and anecdote differ. No task is beneath them.\n",
    "13. **Have Backbone; Disagree and Commit** Leaders are obligated to respectfully challenge decisions when they disagree, even when doing so is uncomfortable or exhausting. Leaders have conviction and are tenacious. They do not compromise for the sake of social cohesion. Once a decision is determined, they commit wholly.\n",
    "14. **Deliver Results** Leaders focus on the key inputs for their business and deliver them with the right quality and in a timely fashion. Despite setbacks, they rise to the occasion and never settle.\n",
    "15. **Strive to be Earth’s Best Employer** Leaders work every day to create a safer, more productive, higher performing, more diverse, and more just work environment. They lead with empathy, have fun at work, and make it easy for others to have fun. Leaders ask themselves: Are my fellow employees growing? Are they empowered? Are they ready for what’s next? Leaders have a vision for and commitment to their employees’ personal success, whether that be at Amazon or elsewhere.\n",
    "16. **Success and Scale Bring Broad Responsibility** We started in a garage, but we’re not there anymore. We are big, we impact the world, and we are far from perfect. We must be humble and thoughtful about even the secondary effects of our actions. Our local communities, planet, and future generations need us to be better every day. We must begin each day with a determination to make better, do better, and be better for our customers, our employees, our partners, and the world at large. And we must end every day knowing we can do even more tomorrow. Leaders create more than they consume and always leave things better than how they found them."
   ]
  },
  {
   "cell_type": "markdown",
   "metadata": {
    "vscode": {
     "languageId": "plaintext"
    }
   },
   "source": [
    "## Behavioral"
   ]
  },
  {
   "cell_type": "markdown",
   "metadata": {
    "vscode": {
     "languageId": "plaintext"
    }
   },
   "source": [
    "### Prepared Responses"
   ]
  },
  {
   "cell_type": "markdown",
   "metadata": {
    "vscode": {
     "languageId": "plaintext"
    }
   },
   "source": [
    "**Tell me about yourself**\n",
    "\n",
    "Hi my name is Prakhar Sinha. I previously did work as a SWE Intern at VDart Inc., Computer Vision Specialist at UC Davis Health and I was the head of the projects divison at Neurotech@Davis, where we specialzied in developing brain computer interfaces. I am a recent computer science grad from UC Davis and I currently hold expertise in the areas of AI/ML with a specialization in computer vision. I am also have a lot of experience in front end web development with React, Typescript and CSS/Tailwind.\n",
    "\n",
    "**Tell me about a time when you went above and beyond for a customer or client.**\n",
    "\n",
    "One time I went above and beyond for a customer or client was during my time at UC Davis Health. I was working under Doctor Farzad at the time and in the middle of my onboarding process, the lab was set to move from UC Davis to Emory Univeristy in Georgia. This meant that my time at UCDHS would be cut short and I would only be given 2 months to work on my project. As a result, I realized, in order to deliver any sort of product, I'd have to shift into high gear (customer obsession). I worked backwards. I started with what my professor needed from me and then I thought what are the steps I can take to get there? I was the only one assigned to this project so there was no choice other than for me to take ownership of my work (ownership). I started by diving deep into the subject matter, which was a computer vision assignment [go deeper into the thingy]. Given my lack of time, there wasn't a possiblity for me to train a U-NET from scratch and make annotated data and stuff like that. Therefore, I sought to look at preexisting code to try to adapt that to my use case. Therefore, I looked into Meta's Segment Anything Model...\n",
    "\n",
    "**Tell me about a time when you were faced with a problem that had a number of possible solutions.**\n",
    "- When I was working at UC Davis Health under Dr. Farzad, I had to develop a computer vision system to detect pictures of low resolution images in a poorly lit environment. \n",
    "- There were a lot of constraints: lack of time, lack of resources...\n",
    "- Therefore based on the constraints I was working with and the task I had ahead of me, I decided the most responsible thing to do was to use FastSAM\n",
    "\n",
    "**When did you take a risk, make a mistake, or fail? How did you respond? How did you grow from it?**\n",
    "- The best example of this would be my time at VIDI research lab at UC Davis. I was to be a machine learning research assisstant but I couldn't deliver results. \n",
    "- I was sad initially and blamed the situation. I quickly realized I was largely at fault too. Lack of communication, time and energy led to poor performance in that role. \n",
    "- I know realize how important communication is between you and your supervisor. Among other things.\n",
    " \n",
    "**How have you used data to develop a strategy?**\n",
    "\n",
    "In my machine learning projects, such as the Machine Learning Data Visualization Web Dev Project, I leveraged data from neural networks, specifically visualizing the second-to-last layer of ResNet-50. This helped my team gain insights into the model's decision-making process, enabling us to adapt our training strategy to improve model accuracy. Data insights drove the direction of feature updates and model optimization, ensuring that our strategy was aligned with achieving the most accurate results.\n",
    "\n",
    "**Describe a time when you took on work outside of your comfort area. What was it and what did you do?**\n",
    "\n",
    "Either talk about first starting work on neurotech projects or VDart.\n",
    "\n",
    "**Tell me about a time you disagreed with a team member or a manager about something important?**\n",
    "\n",
    "During my time as a Gen AI Product Engineering Intern at VDart, I was the one solely responsible for the front end of the product we were developing. I had domain expertise, at least within my group. There was a hot and new auth service on the market called Clerk that abstracted a lot of the confusion from designing user authentication systems like FireBase. My team member, who was working on the backend, said we needed to use both Clerk and Firebase to handle user Auth. I knew this wasn't true. We talked it out and it was clear that my team member's confusion stemmed from thinking that firebase would store the data and clerk would authenticate the data. I stood my ground and explained to him that this didn't make any sense and we only need to use one or the other. As a result, I saved us a lot of devlopment time as well as cleared up confusion with my team members. \n",
    "\n",
    "- \"Give me an example of an initiative you undertook because you saw that it could benefit the whole company or your customers, but wasn’t within any group’s individual responsibility, so nothing was being done.\" Ownership\n",
    "- “Give me an example of a time when you were able to deliver an important project under a tight deadline.” Deliver Results\n",
    "- Describe a time you took the lead on a project.\n",
    "- What did you do when you needed to motivate a group or promote collaboration on a project?\n",
    "- “Tell me about a time when you worked against tight deadlines and didn't have time to consider all options before making a decision.” Bias for action\n"
   ]
  },
  {
   "cell_type": "markdown",
   "metadata": {
    "vscode": {
     "languageId": "plaintext"
    }
   },
   "source": [
    "### Notes"
   ]
  },
  {
   "cell_type": "markdown",
   "metadata": {
    "vscode": {
     "languageId": "plaintext"
    }
   },
   "source": [
    "- Amazon’s behavioral interview is deeply tied to their [**Leadership Principles**](https://www.amazon.jobs/content/en/our-workplace/leadership-principles).\n",
    "- \"**Two Answers Strategy**: Prepare two stories for each behavioral question, so you can adjust based on the flow of the interview. For each type of question, I prepared 2–3 responses that I can use. When answering them in the interview, I tried to answer each behavioral question with a different experience.\"\n",
    "- \"When answering the '**Tell me about yourself**' question, instead of just giving basic information, use this opportunity to highlight key accomplishments and experiences that align with the role you’re applying for. For example, I used this opportunity to talk about my accolades and start off strong in the interview.\"\n",
    "- Dhruv: **Customer -> deadline -> everything else**"
   ]
  },
  {
   "cell_type": "markdown",
   "metadata": {},
   "source": [
    "### Notes on Mock Interviews\n",
    "#### Britney 1\n",
    "- Behavioral Notes\n",
    "  - For the \"tell me about yourself question\" rather than saying hai I'm Prakhar, do something more like\n",
    "  - > \"Hi my name is Prakhar Sinha. I previously did work as a SWE Intern at VDart Inc., Computer Vision Specialist at UC Davis Health and I was the head of the projects divison at Neurotech@Davis, where we specialzied in developing brain computer interfaces. I am a recent computer science grad from UC Davis and I currently hold expertise in the areas of AI/ML with a specialization in computer vision. I am also have a lot of experience in front end web development with React, Typescript and CSS/Tailwind.\"\n",
    "  - When answering a specific behavioral question, try to just stick to the principal that they are testing rather than trying to incorperate different principals into it at the same time\n",
    "  - Review leadership principals in general\n",
    "  - its ok to ask a minute to think about it\n",
    "- Technical Notes\n",
    "  - Read the damn question\n",
    "  - You can type out your thought process on the IDE. I think it would’ve been nice for you to make a multi line comment and code out the diagrams to help you understand and visualize it better.\n",
    "  - Be intentional with your variable names. Make them more descriptive and clear."
   ]
  },
  {
   "cell_type": "markdown",
   "metadata": {
    "vscode": {
     "languageId": "plaintext"
    }
   },
   "source": [
    "## Technical"
   ]
  },
  {
   "cell_type": "markdown",
   "metadata": {},
   "source": [
    "### Notes\n",
    "- Review featrues of python that would be good for an interivew\n",
    "- Also do a general DSA review\n",
    "- This is how you extract a column from a 2d array:\n",
    "```py\n",
    "def column(matrix, i):\n",
    "    return [row[i] for row in matrix]\n",
    "```\n",
    "- Cache friendly: *Most computers have caching systems that make reading from sequential addresses in memory faster than reading from scattered addresses.* This means that if a data structure stores data in memory in a contiguous fashion, then it is more cache friendly."
   ]
  },
  {
   "cell_type": "markdown",
   "metadata": {},
   "source": [
    "### DSA Review\n",
    "#### Arrays:\n",
    "\n",
    "> An array organizes items sequentially, one after another in memory.\n",
    ">\n",
    "> Each position in the array has an index, starting at 0.\n",
    "\n",
    "| Function | Wosrt Case Time Complexity |\n",
    "| - | - |\n",
    "| Space | $O(n)$ |\n",
    "| Lookup | $O(1)$ |\n",
    "| Append | $O(1)$ |\n",
    "| Insert | $O(n)$ |\n",
    "| Delete | $O(n)$ |\n",
    "\n",
    "- Array Strengths:\n",
    "  - Fast Lookup times\n",
    "  - Fast Append times\n",
    "- Array Weaknesses:\n",
    "  - Fixed size, since this isn't a dynamic array\n",
    "  - Insert and delete takes $O(n)$ unless you use a dynamic array or lazy deletion\n",
    "\n",
    "#### Dynamic Arrays:\n",
    "\n",
    "> A dynamic array is an array with a big improvement: automatic resizing.\n",
    ">\n",
    "> One limitation of arrays is that they're fixed size, meaning you need to specify the number of elements your array will hold ahead of time.\n",
    ">\n",
    "> A dynamic array expands as you add more elements. So you don't need to determine the size ahead of time.\n",
    "\n",
    "| Function | Average Case Time Complexity | Worst Case Time Complexity\n",
    "| - | - | - |\n",
    "| Space | $O(n)$ | $O(n)$ | \n",
    "| Lookup | $O(1)$ | $O(1)$ | \n",
    "| Append | $O(1)$ | $O(n)$ |\n",
    "| Insert | $O(n)$ | $O(n)$ |\n",
    "| Delete | $O(n)$ | $O(n)$ |\n",
    "\n",
    "- Dynamic Array Strengths:\n",
    "  - Fast Lookup times\n",
    "  - Variable size\n",
    "  - Cache Friendly: since an array is composed of continguous data, if you are accessing elements close to each other often, the cache is able to take advantage of it.\n",
    "- Dynamic Array Weaknesses:\n",
    "  - Worst case append is quite slow. This is because the size of the array will most likely double to accomodate for many new elements.\n",
    "  - Insert and delete are still quite slow, since you need to scoot over each element\n",
    "- The amortized cost of append is $O(1)$ because thats what it is on average\n",
    "\n",
    "#### Linked List\n",
    "\n",
    "> A linked list organizes items sequentially, with each item storing a pointer to the next one.\n",
    "> \n",
    "> An item in a linked list is called a node. The first node is called the head. The last node is called the tail.\n",
    "\n",
    "| Function | Worst Case Time Complexity |\n",
    "| - | - |\n",
    "| Space | $O(n)$ |\n",
    "| Prepend | $O(1)$ |\n",
    "| Lookup | $O(n)$ |\n",
    "| Append | $O(1)$ |\n",
    "| Insert | $O(n)$ |\n",
    "| Delete | $O(n)$ |\n",
    "\n",
    "- Strengths\n",
    "  - Fast operations on the ends, i.e prepending and appending\n",
    "  - Flexible size without the need to double the size or something like that\n",
    "- Weaknesses\n",
    "  - Slow Lookups since you have to walk through the entire list\n",
    "  - Not cache friendly\n",
    "  - > Most computers have caching systems that make reading from sequential addresses in memory faster than reading from scattered addresses. Array items are always located right next to each other in computer memory, but linked list nodes can be scattered all over. So iterating through a linked list is usually quite a bit slower than iterating through the items in an array, even though they're both theoretically $O(n)$\n",
    "- Uses\n",
    "  - Since *stacks* and *queues* only need fast operations on the ends of the list, linked lists are ideal\n",
    "\n",
    "#### Queue\n",
    "\n",
    "> FIFO!!!!\n",
    "\n",
    "| Function | Worst Case Time Complexity |\n",
    "| - | - |\n",
    "| Space | $O(n)$ |\n",
    "| Enqueue | $O(1)$ |\n",
    "| Dequeue | $O(1)$ |\n",
    "| Peek | $O(1)$ |\n",
    "\n",
    "- Strengths\n",
    "  - Fast operations; all queue operations take $O(1)$ time\n",
    "- Uses\n",
    "  - Breadth-first uses a queue to keep track of which nodes to visit next\n",
    "  - Printers, Web Servers and CPU Schedulers all use a queue in some way shape or form to keep track of things.\n",
    "\n",
    "#### Hash Table\n",
    "\n",
    "> The goat of data structures\n",
    "> Uses a hashing function to quickly access items. \n",
    "\n",
    "| Function | Average Case Time Complexity | Worst Case Time Complexity\n",
    "| - | - | - |\n",
    "| Space | $O(n)$ | $O(n)$ | \n",
    "| Insert | $O(1)$ | $O(n)$ | \n",
    "| Lookup | $O(1)$ | $O(n)$ |\n",
    "| Delete | $O(1)$ | $O(n)$ |\n",
    "\n",
    "- Strengths\n",
    "  - Lookups take O(1) time on average!\n",
    "  - Most data types can be used for keys as long as they are hashable.\n",
    "- Weaknesses\n",
    "  - Look-ups in the worst case take $O(n)$ due to collisions\n",
    "  - There is no order so you have to look through every key if you don't know what you are looking for\n",
    "  - Finding a value for a corrusponding key is easy, going backwards is a bit harder. Like a one-way function. Looking up keys requires iterating though the entire data set in $O(n)$ time.\n",
    "  - Not cache friendly because most implementations used a linked-list\n",
    "  - Resizing also requires doubling the table again\n",
    "  \n",
    "#### Trees (my behated)\n",
    "\n",
    "> Trees are used for filesystems, comments and anytime data needs to follow a hirearchical structure."
   ]
  },
  {
   "cell_type": "markdown",
   "metadata": {
    "vscode": {
     "languageId": "plaintext"
    }
   },
   "source": [
    "### Two Sum\n",
    "1. First, instatitate a dictionary\n",
    "2. Start iterating through the list, substract the current number from the target\n",
    "3. If the complement is already in the dictionary return the current index and the index of the complement\n",
    "4. Else, store the complment in the dictionary as a `(number, index)` pair\n",
    "\n",
    "Time Complexity: **O(n)**\n",
    "\n",
    "Space Complexity: **O(n)**"
   ]
  },
  {
   "cell_type": "code",
   "execution_count": null,
   "metadata": {},
   "outputs": [],
   "source": [
    "class Solution:\n",
    "    def twoSum(self, nums: List[int], target: int) -> List[int]:\n",
    "        hash = {}\n",
    "        n = len(nums)\n",
    "        for i in range(n):\n",
    "            complement = target - nums[i]\n",
    "            if complement in hash:\n",
    "                return [hash[complement], i]\n",
    "            hash[nums[i]] = i\n",
    "        return []"
   ]
  },
  {
   "cell_type": "markdown",
   "metadata": {},
   "source": [
    "### LRU Cache\n",
    "- Initialize the cache with the capacity and a `dict` and `list` to represent the cache and the age, respectively. The 0th index is the oldest.\n",
    "- For `get` update the age list whenever an key is accessed. \n",
    "- For `put`\n",
    "  - if the value exists, remove it from the age list\n",
    "  - if the cache has reached full capacity, pop the first element (the oldest) from the age list and delete the key corresponding key from the cache\n",
    "  - finally, update the value and add it back to the age list as the newest element.\n",
    "\n",
    "For `__init__`:\n",
    "- Time Complexity: **O(n)**\n",
    "- Space Complexity: **O(n)**\n",
    "\n",
    "For `get`:\n",
    "- Time Complexity: **O(n)**\n",
    "- Space Complexity: **O(1)**\n",
    "\n",
    "For `put`:\n",
    "- Time Complexity: **O(n)**\n",
    "- Space Complexity: **O(1)**"
   ]
  },
  {
   "cell_type": "code",
   "execution_count": null,
   "metadata": {},
   "outputs": [],
   "source": [
    "class LRUCache:\n",
    "    def __init__(self, capacity: int):\n",
    "        self.capacity = capacity\n",
    "        self.cache = {}   \n",
    "        self.age = []    \n",
    "\n",
    "    def get(self, key: int) -> int:\n",
    "        if key not in self.cache:\n",
    "            return -1\n",
    "        self.age.remove(key)\n",
    "        self.age.append(key)\n",
    "        return self.cache[key]\n",
    "\n",
    "    def put(self, key: int, value: int) -> None:\n",
    "        if key in self.cache:\n",
    "            self.age.remove(key)\n",
    "        elif len(self.cache) >= self.capacity:  \n",
    "            temp = self.age.pop(0)\n",
    "            del self.cache[temp]\n",
    "        self.cache[key] = value\n",
    "        self.age.append(key)\n",
    "        return None"
   ]
  },
  {
   "cell_type": "markdown",
   "metadata": {},
   "source": [
    "### Number of Islands\n",
    "#### Solution\n",
    "- First step is input checking; check if the grid is null\n",
    "- Secondly, set a variable for the rows and columns. Also initialize a set for the islands that have already been visited and a variable for the number of islands.\n",
    "- Write a BFS function.\n",
    "- From here, we interate through every node in the grid. Everytime we encounter a `\"1\"`, we perform BFS and add all adjacent 1's to the visited list.\n",
    "\n",
    "#### Notes\n",
    "- BFS\n",
    "  - Broad/wide search of a graph that uses a FIFO queue\n",
    "  - From a given root node, we can find every node that is discoverable from that root node\n",
    "  - Keep track of nodes visited as well as a queue that denotes nodes that have yet to be visited\n",
    "  - Add the first node to the queue. pop that node and add its adjacent nodes to the queue\n",
    "  - Keep repeating this process until there are no nodes left in the queue\n",
    "- To turn this into a DFS solution, replace `popleft()` with `pop()`\n",
    "  \n",
    "#### Time Complexity\n",
    "Both, time and space, are `O(n)` "
   ]
  },
  {
   "cell_type": "code",
   "execution_count": null,
   "metadata": {},
   "outputs": [],
   "source": [
    "class Solution:\n",
    "    def numIslands(self, grid: List[List[str]]) -> int:\n",
    "        if not grid:\n",
    "            return 0\n",
    "        rows, cols = len(grid), len(grid[0])\n",
    "        visit = set()\n",
    "        islands = 0\n",
    "\n",
    "        def bfs(r, c):\n",
    "            q = collections.deque()\n",
    "            visit.add((r, c))\n",
    "            q.append((r, c))\n",
    "            while q:\n",
    "                row, col = q.popleft()\n",
    "                directions = [[1,0], [-1, 0], [0, 1], [0, -1]]\n",
    "                for dr, dc in directions:\n",
    "                    r, c = row + dr, col + dc\n",
    "                    if (r in range(rows) and\n",
    "                        c in range(cols) and\n",
    "                        grid[r][c] == \"1\" and\n",
    "                        (r, c) not in visit):\n",
    "                        q.append((r, c))\n",
    "                        visit.add((r, c))\n",
    "        \n",
    "        for r in range(rows):\n",
    "            for c in range(cols):\n",
    "                if grid[r][c] == \"1\" and (r, c) not in visit:\n",
    "                    bfs(r, c)\n",
    "                    islands += 1\n",
    "        \n",
    "        return islands"
   ]
  },
  {
   "cell_type": "markdown",
   "metadata": {},
   "source": [
    "### [Merge Intervals](https://leetcode.com/problems/merge-intervals/)\n",
    "\n",
    "#### Solution\n",
    "1. Input checking: check if interval is null\n",
    "2. Sort the input list\n",
    "3. Initialize an empty answer list\n",
    "4. Run through the input list once. For each input:\n",
    "   1. If there is no overlap or the interval is null, append it to the answer list\n",
    "   2. Otherwise there must be an overlap, replace the last number of the last interval in the answer list with the max of the current interval and the last number. \n",
    "\n",
    "#### Time/Space Complexity\n",
    "Both are `O(n)`"
   ]
  },
  {
   "cell_type": "code",
   "execution_count": null,
   "metadata": {},
   "outputs": [],
   "source": [
    "class Solution:\n",
    "    def merge(self, intervals: List[List[int]]) -> List[List[int]]:\n",
    "        if len(intervals) == 1:\n",
    "            return intervals\n",
    "\n",
    "        intervals.sort(key=lambda x: x[0])\n",
    "        \n",
    "        answer = []\n",
    "        \n",
    "        for interval in intervals:\n",
    "            if not answer or answer[-1][1] < interval[0]:\n",
    "                answer.append(interval)\n",
    "            else:\n",
    "                answer[-1][1] = max(interval[1], answer[-1][1])\n",
    "                \n",
    "        return answer"
   ]
  },
  {
   "cell_type": "markdown",
   "metadata": {},
   "source": [
    "### [Longest Substring Without Repeating Characters](https://leetcode.com/problems/longest-substring-without-repeating-characters/description/?envType=company&envId=amazon&favoriteSlug=amazon-thirty-days)"
   ]
  },
  {
   "cell_type": "markdown",
   "metadata": {},
   "source": [
    "#### Solution\n",
    "- Should be solved using the sliding window problem, a method that does what is sounds like\n",
    "- Initialize variables:\n",
    "  - `longest = 0`\n",
    "  - `n = len(s)`\n",
    "  - `left = 0`\n",
    "- The main loop will keep interating until the string produced has a duplicate. Then we slide the left side of the window one to the right."
   ]
  },
  {
   "cell_type": "code",
   "execution_count": 2,
   "metadata": {},
   "outputs": [],
   "source": [
    "class Solution:\n",
    "    def lengthOfLongestSubstring(self, s: str) -> int:\n",
    "        longest = 0\n",
    "        n = len(s)\n",
    "        left = 0\n",
    "\n",
    "        for i in range(1, n + 1):\n",
    "            temp = s[left:i]\n",
    "            if len(set(temp)) == len(temp):\n",
    "                longest = max(len(temp), longest)\n",
    "            else:\n",
    "                left += 1\n",
    "\n",
    "        return longest"
   ]
  },
  {
   "cell_type": "markdown",
   "metadata": {},
   "source": [
    "### [Merge Sorted Array](https://leetcode.com/problems/merge-sorted-array/?envType=company&envId=amazon&favoriteSlug=amazon-thirty-days)\n",
    "\n",
    "#### Solution\n",
    "- Should utilize \"moving pointer\" solution\n",
    "\n",
    "# REVISIT THIS ONE"
   ]
  },
  {
   "cell_type": "code",
   "execution_count": null,
   "metadata": {},
   "outputs": [],
   "source": [
    "class Solution:\n",
    "    def merge(self, nums1: List[int], m: int, nums2: List[int], n: int) -> None:\n",
    "        \"\"\"\n",
    "        Do not return anything, modify nums1 in-place instead.\n",
    "        \"\"\"\n",
    "        \n",
    "        last = m + n - 1\n",
    "        while m > 0 and n > 0:\n",
    "            if nums1[m - 1] > nums2[n - 1]:\n",
    "                nums1[last] = nums1[m - 1]\n",
    "                m -= 1\n",
    "            else:\n",
    "                nums1[last] = nums2[n - 1]\n",
    "                n -= 1\n",
    "            last -= 1\n",
    "        \n",
    "        while n > 0:\n",
    "            nums1[last] = nums2[n - 1]\n",
    "            n, last = n - 1, last - 1"
   ]
  },
  {
   "cell_type": "markdown",
   "metadata": {},
   "source": [
    "### [Trapping Rain Water](https://leetcode.com/problems/trapping-rain-water/?envType=company&envId=amazon&favoriteSlug=amazon-thirty-days)\n",
    "\n",
    "#### Notes\n",
    "- Two pointers solution\n",
    "- Start by initializing both pointers on the left and right end of the list\n",
    "- Move the min of the two pointers one to the left or right depending on the pointer\n",
    "\n",
    "> *notice that as long as right_max[i]>left_max[i] (from element 0 to 6), the water trapped depends upon the left_max, and similar is the case when left_max[i]>right_max[i] (from element 8 to 11).*\n",
    ">\n",
    "> *So, we can say that if there is a larger bar at one end (say right), we are assured that the water trapped would be dependant on height of bar in current direction (from left to right). As soon as we find the bar at other end (right) is smaller, we start iterating in opposite direction (from right to left).*\n",
    "\n",
    "| input | 0 | 1 | 0 | 2 | 1 | 0 | 1 | 3 | 2 | 1 | 2 | 1 |\n",
    "| --- | --- | --- | --- | --- | --- | --- | --- | --- | --- | --- | --- | --- |"
   ]
  },
  {
   "cell_type": "code",
   "execution_count": null,
   "metadata": {},
   "outputs": [],
   "source": [
    "class Solution:\n",
    "    def trap(self, height: List[int]) -> int:\n",
    "        left, right = 0, len(height) - 1\n",
    "        ans = 0\n",
    "        left_max, right_max = 0, 0\n",
    "        while left < right:\n",
    "            if height[left] <= height[right]:\n",
    "                left_max = max(height[left], left_max)\n",
    "                ans += left_max - height[left]\n",
    "                left += 1\n",
    "            else:\n",
    "                right_max = max(height[right], right_max)\n",
    "                ans += right_max - height[right]\n",
    "                right -= 1\n",
    "        return ans"
   ]
  },
  {
   "cell_type": "markdown",
   "metadata": {},
   "source": [
    "### [Group Anagrams](https://leetcode.com/problems/group-anagrams/?envType=company&envId=amazon&favoriteSlug=amazon-thirty-days)\n",
    "\n",
    "#### Notes\n",
    "this one is very good 👍"
   ]
  },
  {
   "cell_type": "code",
   "execution_count": null,
   "metadata": {},
   "outputs": [],
   "source": [
    "class Solution:\n",
    "    def groupAnagrams(self, strs: List[str]) -> List[List[str]]:\n",
    "        leDict = {}\n",
    "        for sting in strs:\n",
    "            value = ''.join(sorted(sting))\n",
    "            if value in leDict:\n",
    "                leDict[value].append(sting)\n",
    "            else:\n",
    "                leDict[value] = [sting]\n",
    "        \n",
    "        return list(leDict.values())\n"
   ]
  },
  {
   "cell_type": "markdown",
   "metadata": {},
   "source": [
    "### [Longest Palindromic Substring](https://leetcode.com/problems/longest-palindromic-substring/description/?envType=company&envId=amazon&favoriteSlug=amazon-all)"
   ]
  },
  {
   "cell_type": "markdown",
   "metadata": {},
   "source": [
    "#### Notes\n",
    "This is honestly one of the least optimal solutions you could come up with"
   ]
  },
  {
   "cell_type": "code",
   "execution_count": 2,
   "metadata": {},
   "outputs": [],
   "source": [
    "class Solution:\n",
    "    def longestPalindrome(self, s: str) -> str:\n",
    "        n = len(s)\n",
    "        longest = \"\"\n",
    "\n",
    "        for left in range(n):\n",
    "            for right in range(left + 1, n + 1):\n",
    "                temp = s[left:right]\n",
    "                if temp == temp[::-1]:\n",
    "                    if len(temp) > len(longest):\n",
    "                        longest = temp\n",
    "            \n",
    "        \n",
    "        return longest"
   ]
  },
  {
   "cell_type": "markdown",
   "metadata": {},
   "source": [
    "### [Most Expensive Item That Can Not Be Bought](https://leetcode.com/problems/most-expensive-item-that-can-not-be-bought/description/?envType=company&envId=amazon&favoriteSlug=amazon-thirty-days)\n",
    "\n",
    "#### Notes\n",
    "This is actually testing a fun concept in number theory called the \"Frobenius Coin Problem\". The solution is literally:\n",
    "$$g(a,b) = a \\times b - a - b$$"
   ]
  },
  {
   "cell_type": "code",
   "execution_count": 4,
   "metadata": {},
   "outputs": [],
   "source": [
    "class Solution:\n",
    "    def mostExpensiveItem(self, primeOne: int, primeTwo: int) -> int:\n",
    "        return primeOne * primeTwo - primeOne - primeTwo"
   ]
  },
  {
   "cell_type": "markdown",
   "metadata": {},
   "source": [
    "### [Palindrome Number](https://leetcode.com/problems/palindrome-number/?envType=company&envId=amazon&favoriteSlug=amazon-thirty-days)\n",
    "#### Notes\n",
    "\n",
    "This might be the least optimal solution I could have come up with"
   ]
  },
  {
   "cell_type": "code",
   "execution_count": 2,
   "metadata": {},
   "outputs": [],
   "source": [
    "class Solution:\n",
    "    def isPalindrome(self, x: int) -> bool:\n",
    "        if list(str(x))[::-1] == list(str(x)):\n",
    "            return True\n",
    "        else:\n",
    "            return False"
   ]
  },
  {
   "cell_type": "markdown",
   "metadata": {},
   "source": [
    "### [Add Two Numbers](https://leetcode.com/problems/add-two-numbers/?envType=company&envId=amazon&favoriteSlug=amazon-thirty-days)\n",
    "\n",
    "#### Notes\n",
    "1. start by initializing a dummy node that will contain the answer and a carry\n",
    "2. initialize a 'curr' pointer\n",
    "3. loop through both lists:\n",
    "   1. if l1 or l2 is none (i.e. we've reached the end) then set the corrusponding val to O. Else `val1 = l1.val...`\n",
    "   2. `tempAnswer = val1 + val2 + carry\n",
    "   3. set the carry to `tempAnswer // 10`\n",
    "   4. set curr.next = `ListNode(tempAnswer % 10)`\n",
    "   5. move curr to the next node (the one we just created)\n",
    "   6. if l1 or l2 is not `None` then move the pointer forward\n",
    "4. return `dummy.next` since the first node we made had a 0 in it"
   ]
  },
  {
   "cell_type": "code",
   "execution_count": null,
   "metadata": {},
   "outputs": [],
   "source": [
    "# Definition for singly-linked list.\n",
    "# class ListNode:\n",
    "#     def __init__(self, val=0, next=None):\n",
    "#         self.val = val\n",
    "#         self.next = next\n",
    "\n",
    "class Solution:\n",
    "    def addTwoNumbers(self, l1: Optional[ListNode], l2: Optional[ListNode]) -> Optional[ListNode]:\n",
    "        answer = ListNode(0)\n",
    "        curr = answer\n",
    "        carry = 0\n",
    "\n",
    "        while l1 or l2 or carry:\n",
    "            val1 = l1.val if l1 else 0\n",
    "            val2 = l2.val if l2 else 0\n",
    "                \n",
    "            tempAnswer = val1 + val2 + carry\n",
    "            carry = tempAnswer // 10\n",
    "            curr.next = ListNode(tempAnswer % 10)\n",
    "\n",
    "            curr = curr.next\n",
    "\n",
    "            if l1 is not None:\n",
    "                l1 = l1.next\n",
    "            if l2 is not None:\n",
    "                l2 = l2.next\n",
    "        \n",
    "        return answer.next"
   ]
  },
  {
   "cell_type": "markdown",
   "metadata": {},
   "source": [
    "### [Jump Game](https://leetcode.com/problems/jump-game/description/?envType=company&envId=amazon&favoriteSlug=amazon-thirty-days)\n",
    "\n",
    "#### Notes\n",
    "\n",
    "- Recursive solution is too slow\n",
    "- Funny enough I think 122A professor taught us this and I forgot\n",
    "```py\n",
    "class Solution:\n",
    "    def canJump(self, nums: List[int]) -> bool:\n",
    "        def canJumpRecursive(nums, idx):\n",
    "            if idx == (len(nums) - 1):\n",
    "                return True\n",
    "\n",
    "            currIndex = nums[idx]\n",
    "            for i in range(1, currIndex + 1):\n",
    "                if canJumpRecursive(nums, i + idx):\n",
    "                    return True\n",
    "            return False\n",
    "\n",
    "        return canJumpRecursive(nums, 0)```"
   ]
  },
  {
   "cell_type": "code",
   "execution_count": null,
   "metadata": {},
   "outputs": [],
   "source": [
    "class Solution:\n",
    "    def canJump(self, nums: List[int]) -> bool:\n",
    "        if len(nums) <= 1:\n",
    "            return True\n",
    "        if not any(n <= 0 for n in nums):\n",
    "            return True \n",
    "        gas = 0\n",
    "        for n in nums:\n",
    "            if gas < 0:\n",
    "                return False\n",
    "            elif n > gas:\n",
    "                gas = n\n",
    "            gas -= 1\n",
    "        return True"
   ]
  },
  {
   "cell_type": "code",
   "execution_count": null,
   "metadata": {},
   "outputs": [],
   "source": []
  },
  {
   "cell_type": "markdown",
   "metadata": {},
   "source": [
    "\n",
    "Code\n",
    "Testcase\n",
    "Test Result\n",
    "Test Result\n",
    "55. Jump Game\n",
    "Medium\n",
    "Topics\n",
    "Companies\n",
    "You are given an integer array nums. You are initially positioned at the array's first index, and each element in the array represents your maximum jump length at that position.\n",
    "\n",
    "Return true if you can reach the last index, or false otherwise.\n",
    "\n",
    " \n",
    "\n",
    "Example 1:\n",
    "\n",
    "Input: nums = [2,3,1,1,4]\n",
    "Output: true\n",
    "Explanation: Jump 1 step from index 0 to 1, then 3 steps to the last index.\n",
    "Example 2:\n",
    "\n",
    "Input: nums = [3,2,1,0,4]\n",
    "Output: false\n",
    "Explanation: You will always arrive at index 3 no matter what. Its maximum jump length is 0, which makes it impossible to reach the last index.\n",
    " \n",
    "\n",
    "Constraints:\n",
    "\n",
    "1 <= nums.length <= 104\n",
    "0 <= nums[i] <= 105"
   ]
  }
 ],
 "metadata": {
  "kernelspec": {
   "display_name": "Python 3",
   "language": "python",
   "name": "python3"
  },
  "language_info": {
   "codemirror_mode": {
    "name": "ipython",
    "version": 3
   },
   "file_extension": ".py",
   "mimetype": "text/x-python",
   "name": "python",
   "nbconvert_exporter": "python",
   "pygments_lexer": "ipython3",
   "version": "3.8.10"
  }
 },
 "nbformat": 4,
 "nbformat_minor": 2
}
